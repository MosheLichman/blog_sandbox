{
 "cells": [
  {
   "cell_type": "code",
   "execution_count": 3,
   "metadata": {
    "collapsed": false
   },
   "outputs": [],
   "source": [
    "from IPython.display import Image\n",
    "import matplotlib\n",
    "import matplotlib.pyplot as plt\n",
    "import matplotlib.mlab as mlab\n",
    "import numpy as np\n",
    "import itertools\n",
    "%matplotlib inline"
   ]
  },
  {
   "cell_type": "markdown",
   "metadata": {},
   "source": [
    "### Tree-Based Nonparametric Priors"
   ]
  },
  {
   "cell_type": "markdown",
   "metadata": {},
   "source": [
    "##### Mondrian Processes\n",
    "\n",
    "A *Mondrian Process* is a prior over kd-trees.  "
   ]
  },
  {
   "cell_type": "code",
   "execution_count": 34,
   "metadata": {
    "collapsed": false
   },
   "outputs": [],
   "source": [
    "def draw_Mondrian(theta_space, budget=5):\n",
    "    return draw_Mondrian_at_t(theta_space, 0, budget)\n",
    "    \n",
    "def draw_Mondrian_at_t(theta_space, t, budget):\n",
    "    dists = theta_space[:,1] - theta_space[:,0]\n",
    "    lin_dim = np.sum(dists)\n",
    "    T = np.random.exponential(scale=1./lin_dim)\n",
    "    \n",
    "    if t+T > budget: \n",
    "        return (None, None, None)\n",
    "    \n",
    "    d = np.argmax(np.random.multinomial(n=1, pvals=dists/lin_dim))\n",
    "    x = np.random.uniform(low=theta_space[d,0], high=theta_space[d,1])\n",
    "    \n",
    "    theta_left = np.copy(theta_space)\n",
    "    theta_left[d][1] = x \n",
    "    M_left = draw_Mondrian_at_t(theta_left, t+T, budget)\n",
    "    \n",
    "    theta_right = np.copy(theta_space)\n",
    "    theta_right[d][0] = x \n",
    "    M_right = draw_Mondrian_at_t(theta_right, t+T, budget)\n",
    "    \n",
    "    return (theta_space, M_left, M_right)"
   ]
  },
  {
   "cell_type": "code",
   "execution_count": 37,
   "metadata": {
    "collapsed": false
   },
   "outputs": [
    {
     "data": {
      "image/png": "[encoded data removed]",
      "text/plain": [
       "<matplotlib.figure.Figure at 0x114900ad0>"
      ]
     },
     "metadata": {},
     "output_type": "display_data"
    }
   ],
   "source": [
    "Z = np.array([[0.,1.],[0.,1.]])\n",
    "parts = draw_Mondrian(Z, 2.5)\n",
    "\n",
    "plt.figure()\n",
    "\n",
    "def print_partitions(p):\n",
    "    if not isinstance(p[0], np.ndarray): return \n",
    "    \n",
    "    plt.plot([p[0][0,0], p[0][0,0]], [p[0][1,0], p[0][1,1]], '-k', linewidth=5)\n",
    "    plt.plot([p[0][0,1], p[0][0,1]], [p[0][1,0], p[0][1,1]], '-k', linewidth=5)\n",
    "    plt.plot([p[0][0,0], p[0][0,1]], [p[0][1,0], p[0][1,0]], '-k', linewidth=5)\n",
    "    plt.plot([p[0][0,0], p[0][0,1]], [p[0][1,1], p[0][1,1]], '-k', linewidth=5)\n",
    "    \n",
    "    print_partitions(p[1])\n",
    "    print_partitions(p[2])\n",
    "\n",
    "print_partitions(parts)\n",
    "\n",
    "plt.xlim(-0.01,1.01)\n",
    "plt.ylim(-0.01,1.01)\n",
    "plt.show()"
   ]
  },
  {
   "cell_type": "markdown",
   "metadata": {},
   "source": [
    "##### Dirichlet Diffusion Trees\n",
    "\n",
    "A *Dirichlet Diffusion Tree* is a prior over branching Gaussian diffusion processes.  "
   ]
  },
  {
   "cell_type": "code",
   "execution_count": 45,
   "metadata": {
    "collapsed": false
   },
   "outputs": [],
   "source": [
    "def divergence_fn(t):\n",
    "    return .2 * t\n",
    "\n",
    "def draw_DDT(budget=1.):\n",
    "    t = 0.\n",
    "    x = [[[0.], [0.]]]\n",
    "    while t < budget:\n",
    "        for x_path in x:\n",
    "            x_path[0].append(t)\n",
    "            x_path[1].append( x_path[1][-1] + np.random.normal(scale=1*.0001) )\n",
    "            \n",
    "            if np.random.uniform() < divergence_fn(t):\n",
    "                x.append([[t],[x_path[1][-1]]])\n",
    "                \n",
    "        t += .05\n",
    "    return x"
   ]
  },
  {
   "cell_type": "code",
   "execution_count": 52,
   "metadata": {
    "collapsed": false
   },
   "outputs": [
    {
     "data": {
      "image/png": "[encoded data removed]",
      "text/plain": [
       "<matplotlib.figure.Figure at 0x1167e7810>"
      ]
     },
     "metadata": {},
     "output_type": "display_data"
    }
   ],
   "source": [
    "time_budget = 1.\n",
    "paths = draw_DDT(time_budget)\n",
    "\n",
    "plt.figure()\n",
    "\n",
    "for p in paths:\n",
    "    plt.plot(p[0], p[1], linewidth=5)\n",
    "\n",
    "plt.xlim(-0.01, time_budget+.01)\n",
    "plt.show()"
   ]
  }
 ],
 "metadata": {
  "kernelspec": {
   "display_name": "Python 2",
   "language": "python",
   "name": "python2"
  },
  "language_info": {
   "codemirror_mode": {
    "name": "ipython",
    "version": 2
   },
   "file_extension": ".py",
   "mimetype": "text/x-python",
   "name": "python",
   "nbconvert_exporter": "python",
   "pygments_lexer": "ipython2",
   "version": "2.7.11"
  }
 },
 "nbformat": 4,
 "nbformat_minor": 1
}
