{
 "cells": [
  {
   "cell_type": "code",
   "execution_count": 160,
   "metadata": {
    "collapsed": false
   },
   "outputs": [],
   "source": [
    "from IPython.display import Image\n",
    "import itertools\n",
    "\n",
    "import matplotlib\n",
    "import matplotlib.pyplot as plt\n",
    "import matplotlib.mlab as mlab\n",
    "\n",
    "import autograd.numpy as np\n",
    "from autograd.scipy.stats import norm\n",
    "from autograd.scipy.special import gamma as gammaFn\n",
    "\n",
    "from autograd import grad\n",
    "\n",
    "%matplotlib inline"
   ]
  },
  {
   "cell_type": "markdown",
   "metadata": {},
   "source": [
    "### Stein Variational Gradient Descent\n",
    "#### by Qiang Liu, Dilin Wang (https://arxiv.org/abs/1608.04471)\n",
    "\n",
    "Liu and Wang propose a general purpose algorithm for Bayesian inference."
   ]
  },
  {
   "cell_type": "code",
   "execution_count": 161,
   "metadata": {
    "collapsed": false
   },
   "outputs": [],
   "source": [
    "def besselFn_helper(x, v=5, M=10):\n",
    "    s = 0.\n",
    "    for m in xrange(M):\n",
    "        s += (1./(gammaFn(m+1)*gammaFn(m+v+1))) * (x/2.)**(2*m+v)\n",
    "    return s\n",
    "\n",
    "def besselFn(v, x):\n",
    "    return np.pi/2. * (besselFn_helper(x,-v) - besselFn_helper(x,v))/np.sin(np.pi*v)"
   ]
  },
  {
   "cell_type": "code",
   "execution_count": 162,
   "metadata": {
    "collapsed": false
   },
   "outputs": [],
   "source": [
    "# Kernel Functions\n",
    "\n",
    "# Radial Basis Function (Gaussian)\n",
    "def rbf(x1, x2, params={'lengthScale': 1}):\n",
    "    return np.exp((-.5/params['lengthScale']) * (x1-x2)**2)\n",
    "\n",
    "\n",
    "# Matern\n",
    "def matern(x1, x2, params={'v': 1 ,'l': 6.}):\n",
    "    temp = ((np.sqrt(2*params['v'])/params['l']) * np.abs(x1-x2))\n",
    "    return (2**(1-params['v'])/gammaFn(params['v'])) * temp**params['v'] * besselFn(params['v'], temp) "
   ]
  },
  {
   "cell_type": "code",
   "execution_count": 163,
   "metadata": {
    "collapsed": false
   },
   "outputs": [],
   "source": [
    "### perform stein var. grad. descent\n",
    "def steinOp(x, idx, dLogModel, params, kernel, kernelParams=None):\n",
    "    returnVal = 0.\n",
    "    n = len(x)\n",
    "    for sampleIdx in xrange(n):\n",
    "        if sampleIdx == idx: continue\n",
    "        returnVal += kernel['f'](x[sampleIdx], x[idx])*dLogModel(x[idx], params) + kernel['df'](x[sampleIdx], x[idx])\n",
    "    return 1./(n-1) * returnVal"
   ]
  },
  {
   "cell_type": "code",
   "execution_count": 164,
   "metadata": {
    "collapsed": false
   },
   "outputs": [],
   "source": [
    "### Gauss Mixture Model\n",
    "def gaussPdf(x, params):\n",
    "    return (1./np.sqrt(2*np.pi*params['sigma']**2)) * np.exp((-.5/params['sigma']**2) * np.sum((x-params['mu'])**2))\n",
    "\n",
    "def logGaussMixPDF(x, params):\n",
    "    return params['pi'][0] * gaussPdf(x, {'mu':params['mu'][0], 'sigma':params['sigma'][0]}) \\\n",
    "            + params['pi'][1] * gaussPdf(x, {'mu':params['mu'][1], 'sigma':params['sigma'][1]})"
   ]
  },
  {
   "cell_type": "code",
   "execution_count": 165,
   "metadata": {
    "collapsed": false
   },
   "outputs": [
    {
     "data": {
      "text/plain": [
       "<matplotlib.legend.Legend at 0x1172a0250>"
      ]
     },
     "execution_count": 165,
     "metadata": {},
     "output_type": "execute_result"
    },
    {
     "data": {
      "image/png": "[encoded data removed]",
      "text/plain": [
       "<matplotlib.figure.Figure at 0x11714ce10>"
      ]
     },
     "metadata": {},
     "output_type": "display_data"
    }
   ],
   "source": [
    "logModel = logGaussMixPDF\n",
    "dLogModel = grad(logModel)\n",
    "params = {\n",
    "    'mu': [-4,3],\n",
    "    'sigma': [1, 3],\n",
    "    'pi': [.3, .7]\n",
    "}\n",
    "\n",
    "# kernel\n",
    "kernel = {'f': rbf}\n",
    "kernel['df'] = grad(kernel['f'])\n",
    "\n",
    "# initial distribution\n",
    "q0 = np.random.normal\n",
    "\n",
    "### generate samples\n",
    "n = 15\n",
    "x = []\n",
    "for sampleIdx in xrange(n):\n",
    "    x.append(q0())\n",
    "    \n",
    "maxEpochs = 100\n",
    "lr = 2.\n",
    "for epochIdx in xrange(maxEpochs):\n",
    "    for idx in xrange(n):\n",
    "        x[idx] += lr * steinOp(x, idx, dLogModel, params, kernel)\n",
    "\n",
    "x.sort()\n",
    "probs = [np.exp(logModel(z, params)) for z in x]    \n",
    "x_true = np.linspace(-10, 10, 1000)\n",
    "probs_true = [np.exp(logModel(z, params)) for z in x_true]\n",
    "\n",
    "plt.plot(x_true, probs_true, 'b-', linewidth=5, label=\"True\")\n",
    "plt.plot(x, probs, 'rx--', markersize=10, mew=5, linewidth=5, label=\"Approximation\")\n",
    "plt.legend()"
   ]
  }
 ],
 "metadata": {
  "kernelspec": {
   "display_name": "Python 2",
   "language": "python",
   "name": "python2"
  },
  "language_info": {
   "codemirror_mode": {
    "name": "ipython",
    "version": 2
   },
   "file_extension": ".py",
   "mimetype": "text/x-python",
   "name": "python",
   "nbconvert_exporter": "python",
   "pygments_lexer": "ipython2",
   "version": "2.7.11"
  }
 },
 "nbformat": 4,
 "nbformat_minor": 1
}
