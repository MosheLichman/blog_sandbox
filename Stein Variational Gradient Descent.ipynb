{
 "cells": [
  {
   "cell_type": "code",
   "execution_count": 46,
   "metadata": {
    "collapsed": false
   },
   "outputs": [],
   "source": [
    "from IPython.display import Image\n",
    "import matplotlib\n",
    "import matplotlib.pyplot as plt\n",
    "import matplotlib.mlab as mlab\n",
    "import numpy as np\n",
    "from scipy import linalg\n",
    "from scipy.stats import norm\n",
    "from scipy.stats import multivariate_normal\n",
    "import itertools\n",
    "%matplotlib inline"
   ]
  },
  {
   "cell_type": "markdown",
   "metadata": {},
   "source": [
    "### Stein Variational Gradient Descent\n",
    "#### by Qiang Liu, Dilin Wang (https://arxiv.org/abs/1608.04471)\n",
    "\n",
    "Liu and Wang propose a general purpose algorithm for Bayesian inference."
   ]
  },
  {
   "cell_type": "code",
   "execution_count": 57,
   "metadata": {
    "collapsed": true
   },
   "outputs": [],
   "source": [
    "### Functions for kernel term\n",
    "def kernel(x1, x2, lengthScale=.1):\n",
    "    return np.exp((-.5/lengthScale) * (x1-x2)**2)\n",
    "\n",
    "def dK_dx(x1, x2, lengthScale=.1):\n",
    "    return kernel(x1,x2,lengthScale) * -(x1-x2)/lengthScale\n",
    "\n",
    "\n",
    "### Functions for prob. density\n",
    "def pdf(x, mu, sigma):\n",
    "    return (1./np.sqrt(2*np.pi*sigma**2)) * np.exp((-.5/sigma**2) * np.sum((x-mu)**2))\n",
    "\n",
    "def mixPDF(x, mu1, mu2, sigma1, sigma2, pi1, pi2):\n",
    "    return pi1 * pdf(x, mu1, sigma1) + pi2 * pdf(x, mu2, sigma2)\n",
    "\n",
    "def dlogMixPDF_dx(x, mu1, mu2, sigma1, sigma2, pi1, pi2):\n",
    "    return (1./mixPDF(x,mu1, mu2, sigma1, sigma2, pi1, pi2)) * ( pi1*pdf(x, mu1, sigma1)*-(x-mu1)/sigma1**2 + pi2*pdf(x, mu2, sigma2)*-(x-mu2)/sigma2**2 )"
   ]
  },
  {
   "cell_type": "code",
   "execution_count": 71,
   "metadata": {
    "collapsed": false
   },
   "outputs": [
    {
     "data": {
      "text/plain": [
       "<matplotlib.legend.Legend at 0x108d5ba50>"
      ]
     },
     "execution_count": 71,
     "metadata": {},
     "output_type": "execute_result"
    },
    {
     "data": {
      "image/png": "[encoded data removed]",
      "text/plain": [
       "<matplotlib.figure.Figure at 0x108922a10>"
      ]
     },
     "metadata": {},
     "output_type": "display_data"
    }
   ],
   "source": [
    "mu1 = -4.\n",
    "mu2 = 3.\n",
    "sigma1 = 1.\n",
    "sigma2 = 3.\n",
    "pi1 = .3\n",
    "pi2 = .7\n",
    "\n",
    "### generate samples\n",
    "n = 25\n",
    "x = []\n",
    "for sampleIdx in xrange(n):\n",
    "    x.append(np.random.normal() - 10)\n",
    "    \n",
    "### perform stein var. grad. descent\n",
    "def steinOp(x, idx, mu1, mu2, sigma1, sigma2, pi1, pi2):\n",
    "    returnVal = 0.\n",
    "    for sampleIdx in xrange(len(x)):\n",
    "        returnVal += kernel(x[sampleIdx], x[idx])*dlogMixPDF_dx(x[idx], mu1, mu2, sigma1, sigma2, pi1, pi2) + dK_dx(x[sampleIdx], x[idx])\n",
    "    return (1./len(x)) * returnVal\n",
    "    \n",
    "maxEpochs = 500\n",
    "lr = 2.5\n",
    "for epochIdx in xrange(maxEpochs):\n",
    "    for idx in xrange(n):\n",
    "        x[idx] += lr * steinOp(x, idx, mu1, mu2, sigma1, sigma2, pi1, pi2)\n",
    "        \n",
    "x.sort()\n",
    "probs = [mixPDF(z, mu1, mu2, sigma1, sigma2, pi1, pi2) for z in x]    \n",
    "x_true = np.linspace(-10, 10, 1000)\n",
    "probs_true = [mixPDF(z, mu1, mu2, sigma1, sigma2, pi1, pi2) for z in x_true]\n",
    "\n",
    "plt.plot(x_true, probs_true, 'b-', linewidth=5, label=\"True\")\n",
    "plt.plot(x, probs, 'rx--', markersize=10, mew=5, linewidth=5, label=\"Approximation\")\n",
    "plt.legend()"
   ]
  },
  {
   "cell_type": "code",
   "execution_count": null,
   "metadata": {
    "collapsed": true
   },
   "outputs": [],
   "source": []
  }
 ],
 "metadata": {
  "kernelspec": {
   "display_name": "Python 2",
   "language": "python",
   "name": "python2"
  },
  "language_info": {
   "codemirror_mode": {
    "name": "ipython",
    "version": 2
   },
   "file_extension": ".py",
   "mimetype": "text/x-python",
   "name": "python",
   "nbconvert_exporter": "python",
   "pygments_lexer": "ipython2",
   "version": "2.7.11"
  }
 },
 "nbformat": 4,
 "nbformat_minor": 1
}
