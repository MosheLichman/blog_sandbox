{
 "cells": [
  {
   "cell_type": "code",
   "execution_count": 174,
   "metadata": {
    "collapsed": false
   },
   "outputs": [],
   "source": [
    "from IPython.display import Image\n",
    "import itertools\n",
    "\n",
    "import matplotlib\n",
    "import matplotlib.pyplot as plt\n",
    "import matplotlib.mlab as mlab\n",
    "\n",
    "import autograd.numpy as np\n",
    "from autograd.numpy.linalg import det\n",
    "from autograd.numpy.linalg import trace\n",
    "from autograd.numpy.linalg import inv\n",
    "from autograd.scipy.stats import norm\n",
    "from autograd.scipy.special import gamma as gammaFn\n",
    "\n",
    "from autograd import grad\n",
    "\n",
    "%matplotlib inline"
   ]
  },
  {
   "cell_type": "markdown",
   "metadata": {},
   "source": [
    "Utility functions..."
   ]
  },
  {
   "cell_type": "code",
   "execution_count": 167,
   "metadata": {
    "collapsed": false
   },
   "outputs": [],
   "source": [
    "def besselFn_helper(x, v=5, M=10):\n",
    "    s = 0.\n",
    "    for m in xrange(M):\n",
    "        s += (1./(gammaFn(m+1)*gammaFn(m+v+1))) * (x/2.)**(2*m+v)\n",
    "    return s\n",
    "\n",
    "def besselFn(v, x):\n",
    "    return np.pi/2. * (besselFn_helper(x,-v) - besselFn_helper(x,v))/np.sin(np.pi*v)"
   ]
  },
  {
   "cell_type": "markdown",
   "metadata": {},
   "source": [
    "# Stein Variational Gradient Descent\n",
    "### by Qiang Liu, Dilin Wang (https://arxiv.org/abs/1608.04471)\n",
    "\n",
    "Liu and Wang propose a general purpose algorithm for Bayesian inference."
   ]
  },
  {
   "cell_type": "markdown",
   "metadata": {},
   "source": [
    "### Kernel Functions"
   ]
  },
  {
   "cell_type": "code",
   "execution_count": 168,
   "metadata": {
    "collapsed": false
   },
   "outputs": [],
   "source": [
    "# Radial Basis Function (Gaussian)\n",
    "def rbf(x1, x2, params={'lengthScale': 1}):\n",
    "    return np.exp((-.5/params['lengthScale']) * np.sum((x1-x2)**2))\n",
    "\n",
    "# Matern\n",
    "def matern(x1, x2, params={'v': 1 ,'l': 6.}):\n",
    "    temp = ((np.sqrt(2*params['v'])/params['l']) * np.sum(np.abs(x1-x2)))\n",
    "    return (2**(1-params['v'])/gammaFn(params['v'])) * temp**params['v'] * besselFn(params['v'], temp) \n",
    "\n",
    "# RBF w/ von Neumann Boundary at 0\n",
    "def reflect_rbf(x1, x2, params={'lengthScale': 1}):\n",
    "    return np.exp((-.5/params['lengthScale']) * np.sum((x1-x2)**2)) + np.exp((-.5/params['lengthScale']) * np.sum((x1+x2)**2))"
   ]
  },
  {
   "cell_type": "markdown",
   "metadata": {},
   "source": [
    "### Stein Operator"
   ]
  },
  {
   "cell_type": "code",
   "execution_count": 169,
   "metadata": {
    "collapsed": false
   },
   "outputs": [],
   "source": [
    "### perform stein var. grad. descent\n",
    "def steinOp(x, idx, dLogModel, params, kernel, kernelParams=None):\n",
    "    returnVal = 0.\n",
    "    n = len(x)\n",
    "    for sampleIdx in xrange(n):\n",
    "        if sampleIdx == idx: continue\n",
    "        returnVal += kernel['f'](x[sampleIdx], x[idx])*dLogModel(x[idx], params) + kernel['df'](x[sampleIdx], x[idx])\n",
    "    return 1./(n-1) * returnVal"
   ]
  },
  {
   "cell_type": "markdown",
   "metadata": {},
   "source": [
    "## Models"
   ]
  },
  {
   "cell_type": "markdown",
   "metadata": {},
   "source": [
    "### Gaussian Mixture Model"
   ]
  },
  {
   "cell_type": "code",
   "execution_count": 173,
   "metadata": {
    "collapsed": false
   },
   "outputs": [
    {
     "data": {
      "text/plain": [
       "<matplotlib.legend.Legend at 0x117852c90>"
      ]
     },
     "execution_count": 173,
     "metadata": {},
     "output_type": "execute_result"
    },
    {
     "data": {
      "image/png": "[encoded data removed]",
      "text/plain": [
       "<matplotlib.figure.Figure at 0x1172d6c10>"
      ]
     },
     "metadata": {},
     "output_type": "display_data"
    }
   ],
   "source": [
    "# Model\n",
    "def gaussPdf(x, params):\n",
    "    return (1./np.sqrt(2*np.pi*params['sigma']**2)) * np.exp((-.5/params['sigma']**2) * np.sum((x-params['mu'])**2))\n",
    "\n",
    "def logGaussMixPDF(x, params):\n",
    "    return params['pi'][0] * gaussPdf(x, {'mu':params['mu'][0], 'sigma':params['sigma'][0]}) \\\n",
    "            + params['pi'][1] * gaussPdf(x, {'mu':params['mu'][1], 'sigma':params['sigma'][1]})\n",
    "                                         \n",
    "logModel = logGaussMixPDF\n",
    "dLogModel = grad(logModel)\n",
    "params = {\n",
    "    'mu': [-4,3],\n",
    "    'sigma': [1, 3],\n",
    "    'pi': [.3, .7]\n",
    "}\n",
    "\n",
    "# kernel\n",
    "kernel = {'f': rbf}\n",
    "kernel['df'] = grad(kernel['f'])\n",
    "\n",
    "# initial distribution\n",
    "q0 = np.random.normal\n",
    "\n",
    "### generate samples\n",
    "n = 15\n",
    "x = []\n",
    "for sampleIdx in xrange(n):\n",
    "    x.append(q0())\n",
    "    \n",
    "maxEpochs = 100\n",
    "lr = 2.\n",
    "for epochIdx in xrange(maxEpochs):\n",
    "    for idx in xrange(n):\n",
    "        x[idx] += lr * steinOp(x, idx, dLogModel, params, kernel)\n",
    "\n",
    "x.sort()\n",
    "probs = [np.exp(logModel(z, params)) for z in x]    \n",
    "x_true = np.linspace(-10, 10, 1000)\n",
    "probs_true = [np.exp(logModel(z, params)) for z in x_true]\n",
    "\n",
    "plt.plot(x_true, probs_true, 'b-', linewidth=5, label=\"True\")\n",
    "plt.plot(x, probs, 'rx--', markersize=10, mew=5, linewidth=5, label=\"Approximation\")\n",
    "plt.legend()"
   ]
  },
  {
   "cell_type": "markdown",
   "metadata": {},
   "source": [
    "### Gamma Factor Analysis"
   ]
  },
  {
   "cell_type": "code",
   "execution_count": 178,
   "metadata": {
    "collapsed": false
   },
   "outputs": [
    {
     "data": {
      "text/plain": [
       "'\\nmaxEpochs = 100\\nlr = 2.\\nfor epochIdx in xrange(maxEpochs):\\n    for idx in xrange(n):\\n        x[idx] += lr * steinOp(x, idx, dLogModel, params, kernel)\\n\\nx.sort()\\nprobs = [np.exp(logModel(z, params)) for z in x]    \\nx_true = np.linspace(-10, 10, 1000)\\nprobs_true = [np.exp(logModel(z, params)) for z in x_true]\\n\\nplt.plot(x_true, probs_true, \\'b-\\', linewidth=5, label=\"True\")\\nplt.plot(x, probs, \\'rx--\\', markersize=10, mew=5, linewidth=5, label=\"Approximation\")\\nplt.legend()\\n'"
      ]
     },
     "execution_count": 178,
     "metadata": {},
     "output_type": "execute_result"
    }
   ],
   "source": [
    "# Model\n",
    "def logPostFA(W, X, params):\n",
    "    N = X.shape[0]\n",
    "    D,K = W.shape\n",
    "    Q = np.dot(W, W.T)\n",
    "    log_prior = D*K*params['a']*np.log(params['b']) - D*K*np.log(gammaFn(params['a'])) + \\\n",
    "                    np.sum((params['a']-1)*np.log(W)) - np.sum(params['b']*W)\n",
    "    return N/2. * np.log(det(Q)) - .5*trace(np.dot(np.dot(X.T,X), inv(Q))) + log_prior\n",
    "\n",
    "K = 50\n",
    "D = 100\n",
    "\n",
    "logPost = logPostFA\n",
    "dLogPost = grad(logPost)\n",
    "params = {\n",
    "    'a': 1.,\n",
    "    'b': 1.\n",
    "}\n",
    "\n",
    "# kernel\n",
    "kernel = {'f': reflect_rbf}\n",
    "kernel['df'] = grad(kernel['f'])\n",
    "\n",
    "# initial distribution\n",
    "q0 = np.random.gamma\n",
    "\n",
    "### generate samples\n",
    "n = 15\n",
    "x = []\n",
    "for sampleIdx in xrange(n):\n",
    "    x.append(q0(shape=1, size=(D,K)))\n",
    "    \n",
    "\"\"\"\n",
    "maxEpochs = 100\n",
    "lr = 2.\n",
    "for epochIdx in xrange(maxEpochs):\n",
    "    for idx in xrange(n):\n",
    "        x[idx] += lr * steinOp(x, idx, dLogModel, params, kernel)\n",
    "\n",
    "x.sort()\n",
    "probs = [np.exp(logModel(z, params)) for z in x]    \n",
    "x_true = np.linspace(-10, 10, 1000)\n",
    "probs_true = [np.exp(logModel(z, params)) for z in x_true]\n",
    "\n",
    "plt.plot(x_true, probs_true, 'b-', linewidth=5, label=\"True\")\n",
    "plt.plot(x, probs, 'rx--', markersize=10, mew=5, linewidth=5, label=\"Approximation\")\n",
    "plt.legend()\n",
    "\"\"\""
   ]
  },
  {
   "cell_type": "code",
   "execution_count": null,
   "metadata": {
    "collapsed": true
   },
   "outputs": [],
   "source": []
  }
 ],
 "metadata": {
  "kernelspec": {
   "display_name": "Python 2",
   "language": "python",
   "name": "python2"
  },
  "language_info": {
   "codemirror_mode": {
    "name": "ipython",
    "version": 2
   },
   "file_extension": ".py",
   "mimetype": "text/x-python",
   "name": "python",
   "nbconvert_exporter": "python",
   "pygments_lexer": "ipython2",
   "version": "2.7.11"
  }
 },
 "nbformat": 4,
 "nbformat_minor": 1
}
