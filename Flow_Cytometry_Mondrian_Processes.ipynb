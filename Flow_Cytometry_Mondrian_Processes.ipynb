{
 "cells": [
  {
   "cell_type": "code",
   "execution_count": 1,
   "metadata": {
    "collapsed": false
   },
   "outputs": [],
   "source": [
    "import os\n",
    "import sys\n",
    "import glob\n",
    "import itertools\n",
    "\n",
    "from IPython.display import Image\n",
    "\n",
    "import matplotlib\n",
    "import matplotlib.pyplot as plt\n",
    "import matplotlib.mlab as mlab\n",
    "from matplotlib.colors import ListedColormap\n",
    "\n",
    "import numpy as np\n",
    "import pandas as pd\n",
    "\n",
    "%matplotlib inline"
   ]
  },
  {
   "cell_type": "markdown",
   "metadata": {},
   "source": [
    "## Mondrian Processes"
   ]
  },
  {
   "cell_type": "markdown",
   "metadata": {},
   "source": [
    "### Various Functions for Mondrian Processes"
   ]
  },
  {
   "cell_type": "markdown",
   "metadata": {},
   "source": [
    "Sampling..."
   ]
  },
  {
   "cell_type": "code",
   "execution_count": 2,
   "metadata": {
    "collapsed": false
   },
   "outputs": [],
   "source": [
    "### SAMPLE MONDRIAN PROCESS ###\n",
    "def draw_Mondrian(theta_space, budget=5):\n",
    "    return draw_Mondrian_at_t(theta_space, 0, budget)\n",
    "    \n",
    "def draw_Mondrian_at_t(theta_space, t, budget):\n",
    "    dists = theta_space[:,1] - theta_space[:,0]\n",
    "    lin_dim = np.sum(dists)\n",
    "    T = np.random.exponential(scale=1./lin_dim)\n",
    "    \n",
    "    if t+T > budget: \n",
    "        return (theta_space, None, None)\n",
    "    \n",
    "    d = np.argmax(np.random.multinomial(n=1, pvals=dists/lin_dim))\n",
    "    x = np.random.uniform(low=theta_space[d,0], high=theta_space[d,1])\n",
    "    \n",
    "    theta_left = np.copy(theta_space)\n",
    "    theta_left[d][1] = x \n",
    "    M_left = draw_Mondrian_at_t(theta_left, t+T, budget)\n",
    "    \n",
    "    theta_right = np.copy(theta_space)\n",
    "    theta_right[d][0] = x \n",
    "    M_right = draw_Mondrian_at_t(theta_right, t+T, budget)\n",
    "    \n",
    "    return (theta_space, M_left, M_right)"
   ]
  },
  {
   "cell_type": "markdown",
   "metadata": {},
   "source": [
    "Visualization..."
   ]
  },
  {
   "cell_type": "code",
   "execution_count": 180,
   "metadata": {
    "collapsed": false
   },
   "outputs": [],
   "source": [
    "### VISUALIZE 2D MONDRIAN PROCESS ###\n",
    "def print_partitions(p, trans_level=1.):\n",
    "    if not p[1] and not p[2]: \n",
    "        plt.plot([p[0][0,0], p[0][0,0]], [p[0][1,0], p[0][1,1]], '-k', linewidth=5, alpha=trans_level)\n",
    "        plt.plot([p[0][0,1], p[0][0,1]], [p[0][1,0], p[0][1,1]], '-k', linewidth=5, alpha=trans_level)\n",
    "        plt.plot([p[0][0,0], p[0][0,1]], [p[0][1,0], p[0][1,0]], '-k', linewidth=5, alpha=trans_level)\n",
    "        plt.plot([p[0][0,0], p[0][0,1]], [p[0][1,1], p[0][1,1]], '-k', linewidth=5, alpha=trans_level)\n",
    "    \n",
    "    else:\n",
    "        print_partitions(p[1], trans_level)\n",
    "        print_partitions(p[2], trans_level)\n",
    "        \n",
    "        \n",
    "### VISUALIZE 2D POSTERIOR WITH DATA###\n",
    "def print_posterior(data, samples, trans_level=.05):\n",
    "\n",
    "    plt.figure()\n",
    "    plt.scatter(data[:,0], data[:,1], c='k', edgecolors='k', s=80, alpha=.5)\n",
    "\n",
    "    #print all samples\n",
    "    for sample in samples:\n",
    "        print_partitions(sample, trans_level)"
   ]
  },
  {
   "cell_type": "markdown",
   "metadata": {},
   "source": [
    "K-Medians for approx MLE calculation..."
   ]
  },
  {
   "cell_type": "code",
   "execution_count": 4,
   "metadata": {
    "collapsed": false
   },
   "outputs": [],
   "source": [
    "### RUN K-MEDIANS ALGORITHM ###\n",
    "def get_median_assignment(data_point, medians):\n",
    "    min_d = 1000.\n",
    "    assign_idx = -1\n",
    "        \n",
    "    for k_idx, median in enumerate(medians):    \n",
    "        l1_dist = np.sum(np.abs(data_point-median))\n",
    "        if l1_dist <= min_d: \n",
    "            assign_idx = k_idx\n",
    "            min_d = l1_dist\n",
    "            \n",
    "    return assign_idx, min_d\n",
    "\n",
    "\n",
    "### K-Medians Algorithm\n",
    "def get_K_mediants(data, K, lambda_k=.0001, max_iterations=1000):\n",
    "\n",
    "    # Initialize\n",
    "    N = data.shape[0]\n",
    "    medians = [np.array([np.random.uniform(low=0,high=1), np.random.uniform(low=0,high=1)]) for k in xrange(K)]\n",
    "\n",
    "    # Run algorithm\n",
    "    change = True\n",
    "    assignments = [-1] * N\n",
    "    iteration = 0 \n",
    "    while change and iteration < max_iterations:\n",
    "        change = False\n",
    "        iteration += 1\n",
    "    \n",
    "        # assign points to partition\n",
    "        for d_idx in xrange(N):\n",
    "        \n",
    "            assign_idx, min_d = get_median_assignment(data[d_idx], medians)\n",
    "\n",
    "            if min_d > 1./(2*lambda_k):\n",
    "                medians.append(0.+data[d_idx])\n",
    "                assignments[d_idx] = len(medians)\n",
    "                change = True\n",
    "            else:\n",
    "                if assignments[d_idx] != assign_idx: change = True\n",
    "                assignments[d_idx] = assign_idx\n",
    "            \n",
    "        # calculate new medians\n",
    "        idxs_to_delete = []\n",
    "        for k_idx in xrange(len(medians)):\n",
    "            assigned_x = []\n",
    "            for d_idx in xrange(N):\n",
    "                if assignments[d_idx] == k_idx:\n",
    "                    assigned_x.append(data[d_idx,:])\n",
    "                \n",
    "            if len(assigned_x) > 0:\n",
    "                medians[k_idx] = np.median(np.array(assigned_x), axis=0)\n",
    "            else: \n",
    "                idxs_to_delete.append(k_idx)\n",
    "                \n",
    "        for i in idxs_to_delete:\n",
    "            del medians[i]\n",
    "\n",
    "    return medians, np.array(assignments)"
   ]
  },
  {
   "cell_type": "markdown",
   "metadata": {},
   "source": [
    "## Flow Cytometry Data\n",
    "\n",
    "Load AML dataset from [ACDC paper](https://www.ncbi.nlm.nih.gov/pmc/articles/PMC5447237/pdf/btx054.pdf)..."
   ]
  },
  {
   "cell_type": "code",
   "execution_count": 174,
   "metadata": {
    "collapsed": false
   },
   "outputs": [
    {
     "name": "stdout",
     "output_type": "stream",
     "text": [
      "                        CD45RA  CD133  CD19  CD22  CD11b  CD4  CD8  CD34  \\\n",
      "Basophils                  0.0    0.0    -1   0.0    0.0  0.0 -1.0    -1   \n",
      "CD4 T cells                0.0    0.0    -1   0.0    0.0  1.0 -1.0    -1   \n",
      "CD8 T cells                0.0    0.0    -1   0.0    0.0 -1.0  1.0    -1   \n",
      "CD16- NK cells             0.0    0.0    -1   0.0    0.0  0.0  0.0    -1   \n",
      "CD16+ NK cells             0.0    0.0    -1   0.0    0.0  0.0  0.0    -1   \n",
      "CD34+CD38+CD123- HSPCs     0.0    0.0    -1   0.0    0.0  0.0 -1.0     1   \n",
      "CD34+CD38+CD123+ HSPCs     0.0    0.0    -1   0.0    0.0  0.0 -1.0     1   \n",
      "CD34+CD38lo HSCs           0.0    0.0    -1   0.0    0.0  0.0 -1.0     1   \n",
      "Mature B cells             0.0    0.0     1   0.0    0.0  0.0 -1.0    -1   \n",
      "Plasma B cells             0.0    0.0     1   0.0    0.0  0.0 -1.0    -1   \n",
      "Pre B cells                0.0    0.0     1   0.0    0.0  0.0 -1.0    -1   \n",
      "Pro B cells                0.0    0.0     1   0.0    0.0  0.0 -1.0     1   \n",
      "Monocytes                  0.0    0.0    -1   0.0    0.0  0.0 -1.0    -1   \n",
      "pDCs                       0.0    0.0    -1   0.0    0.0  0.0 -1.0    -1   \n",
      "\n",
      "                        Flt3  CD20  ...   CD44  CD38  CD13  CD3  CD61  CD117  \\\n",
      "Basophils                0.0  -1.0  ...    0.0   0.0   0.0   -1   0.0    0.0   \n",
      "CD4 T cells              0.0  -1.0  ...    0.0   0.0   0.0    1   0.0    0.0   \n",
      "CD8 T cells              0.0  -1.0  ...    0.0   0.0   0.0    1   0.0    0.0   \n",
      "CD16- NK cells           0.0  -1.0  ...    0.0   0.0   0.0   -1   0.0    0.0   \n",
      "CD16+ NK cells           0.0   0.0  ...    0.0   0.0   0.0   -1   0.0    0.0   \n",
      "CD34+CD38+CD123- HSPCs   0.0  -1.0  ...    0.0   1.0   0.0   -1   0.0    0.0   \n",
      "CD34+CD38+CD123+ HSPCs   0.0  -1.0  ...    0.0   1.0   0.0   -1   0.0    0.0   \n",
      "CD34+CD38lo HSCs         0.0  -1.0  ...    0.0  -1.0   0.0   -1   0.0    0.0   \n",
      "Mature B cells           0.0   0.0  ...    0.0   0.0   0.0   -1   0.0    0.0   \n",
      "Plasma B cells           0.0   0.0  ...    0.0   1.0   0.0   -1   0.0    0.0   \n",
      "Pre B cells              0.0   0.0  ...    0.0   1.0   0.0   -1   0.0    0.0   \n",
      "Pro B cells              0.0   0.0  ...    0.0   1.0   0.0   -1   0.0    0.0   \n",
      "Monocytes                0.0  -1.0  ...    0.0   0.0   0.0   -1   0.0    0.0   \n",
      "pDCs                     0.0  -1.0  ...    0.0   0.0   0.0   -1   0.0    0.0   \n",
      "\n",
      "                        CD49d  HLA-DR  CD64  CD41  \n",
      "Basophils                 0.0    -1.0  -1.0   0.0  \n",
      "CD4 T cells               0.0    -1.0  -1.0   0.0  \n",
      "CD8 T cells               0.0    -1.0  -1.0   0.0  \n",
      "CD16- NK cells            0.0    -1.0  -1.0   0.0  \n",
      "CD16+ NK cells            0.0    -1.0  -1.0   0.0  \n",
      "CD34+CD38+CD123- HSPCs    0.0     0.0  -1.0   0.0  \n",
      "CD34+CD38+CD123+ HSPCs    0.0     0.0  -1.0   0.0  \n",
      "CD34+CD38lo HSCs          0.0     0.0  -1.0   0.0  \n",
      "Mature B cells            0.0     0.0   0.0   0.0  \n",
      "Plasma B cells            0.0    -1.0   0.0   0.0  \n",
      "Pre B cells               0.0     1.0  -1.0   0.0  \n",
      "Pro B cells               0.0     0.0  -1.0   0.0  \n",
      "Monocytes                 0.0     1.0   0.0   0.0  \n",
      "pDCs                      0.0     1.0  -1.0   0.0  \n",
      "\n",
      "[14 rows x 32 columns]\n",
      "(104184, 32)\n"
     ]
    }
   ],
   "source": [
    "# load AML data and table\n",
    "##### X: np.array, flow cytometry data, arcsin transformed\n",
    "##### T: table of expert knowledge\n",
    "\n",
    "np.random.seed(1234)\n",
    "PATH = '/Users/enalisnick/Desktop/flow_cyto_data/'\n",
    "\n",
    "### LOAD DATA ###\n",
    "path = PATH + 'AML_benchmark/'\n",
    "df = pd.read_csv( path + 'AML_benchmark.csv.gz', sep=',', header = 0, compression = 'gzip', engine='python')\n",
    "table = pd.read_csv(path + 'AML_table.csv', sep=',', header=0, index_col=0)\n",
    "\n",
    "### PROCESS: discard ungated events ###\n",
    "df = df[df.cell_type != 'NotGated']\n",
    "df = df.drop(['Time', 'Cell_length','file_number', 'event_number', 'DNA1(Ir191)Di',\n",
    "              'DNA2(Ir193)Di', 'Viability(Pt195)Di', 'subject'], axis = 1)\n",
    "channels = [item[:item.find('(')] for item in df.columns[:-1]]\n",
    "df.columns = channels + ['cell_type']\n",
    "df = df.loc[df['cell_type'] != 'NotDebrisSinglets']\n",
    "\n",
    "table = table.fillna(0)\n",
    "X = df[channels].values\n",
    "table_headers = list(table)\n",
    "\n",
    "### transform data\n",
    "data = np.arcsinh((X-1.)/5.)\n",
    "\n",
    "print table\n",
    "print X.shape"
   ]
  },
  {
   "cell_type": "markdown",
   "metadata": {},
   "source": [
    "## Mondrian Process Generative Model\n",
    "\n",
    "We apply Mondrian Processes (MPs) to flow cytometry data, using the prior information in the table above to guide the axis-aligned cuts.  Instead of uniformly, we draw the cut proportion from $w \\sim \\text{Beta}(a_{0}, b_{0})$. "
   ]
  },
  {
   "cell_type": "code",
   "execution_count": 175,
   "metadata": {
    "collapsed": false
   },
   "outputs": [
    {
     "data": {
      "image/png": "[encoded data removed]",
      "text/plain": [
       "<matplotlib.figure.Figure at 0x1381f5ed0>"
      ]
     },
     "metadata": {},
     "output_type": "display_data"
    }
   ],
   "source": [
    "plt.figure()\n",
    "\n",
    "a0, b0 = 5, 1\n",
    "beta_samples = np.random.beta(a0, b0, 1000)\n",
    "\n",
    "n, bins, patches = plt.hist(beta_samples,[x*10**(-2) for x in range(100)], normed=1, histtype='stepfilled')\n",
    "plt.setp(patches, 'facecolor', 'b', 'alpha', 0.75)\n",
    "\n",
    "plt.xlim([0,1])\n",
    "plt.show()"
   ]
  },
  {
   "cell_type": "markdown",
   "metadata": {},
   "source": [
    "Now let's re-implement the MP sampling function, accounting for the prior information..."
   ]
  },
  {
   "cell_type": "code",
   "execution_count": 176,
   "metadata": {
    "collapsed": true
   },
   "outputs": [],
   "source": [
    "### SAMPLE MONDRIAN PROCESS WITH PRIOR INFORMATION ###\n",
    "def draw_informed_Mondrian(theta_space, table, budget=5):\n",
    "    \n",
    "    # INFORMATIVE PRIORS\n",
    "    upper_cut = (5., 1.)\n",
    "    lower_cut = (1., 5.)\n",
    "    middle_cut = (5., 5.)\n",
    "    neutral_cut = (1., 1.)\n",
    "    priors_dict = { '-1':lower_cut, '0':neutral_cut, '1':upper_cut, \n",
    "                   '-1 0':lower_cut, '-1 1':middle_cut, '0 1':upper_cut,\n",
    "                   '-1 0 1': middle_cut\n",
    "                  }\n",
    "    \n",
    "    headers = list(table)\n",
    "    cut_history = []\n",
    "    \n",
    "    return draw_informed_Mondrian_at_t(theta_space, table, 0, budget, priors_dict, headers, cut_history)\n",
    "    \n",
    "    \n",
    "def draw_informed_Mondrian_at_t(theta_space, table, t, budget, priors_dict, headers, cut_history):\n",
    "    # calc linear dimension\n",
    "    dists = theta_space[:,1] - theta_space[:,0]\n",
    "    lin_dim = np.sum(dists)\n",
    "    \n",
    "    # draw clock value\n",
    "    T = np.random.exponential(scale=1./lin_dim)\n",
    "    \n",
    "    ### FOR NOW, CUT ALL DIMS AND THEN STOP\n",
    "    # check if clock has rung\n",
    "    #if t+T > budget: \n",
    "    #    return (theta_space, None, None)\n",
    "    \n",
    "    # get dimensions cut so far\n",
    "    dim_mask = [1.] * len(headers)\n",
    "    for idx, h in enumerate(headers):\n",
    "        for c in cut_history:\n",
    "            if h in c: \n",
    "                dim_mask[idx] = 0.\n",
    "                break\n",
    "                \n",
    "    # if all dimensions have been cut, return\n",
    "    if np.sum(dim_mask) == 0.: return (theta_space, None, None)\n",
    "    dim_mask = np.array(dim_mask)\n",
    "    \n",
    "    # draw dimension to cut\n",
    "    dim_probs = ((dists/lin_dim) * dim_mask) \n",
    "    dim_probs /= np.sum(dim_probs)\n",
    "    d = np.argmax(np.random.multinomial(n=1, pvals=dim_probs))\n",
    "    \n",
    "    # look-up prior information\n",
    "    if len(cut_history) == 0:\n",
    "        # no need to look for matches, just check dimension\n",
    "        matching_prior_info = np.unique(table[headers[d]])\n",
    "    \n",
    "    else:\n",
    "        #query = ' & '.join(cut_history) # without nulls \n",
    "        query = ' & '.join( [ '( '+c.split('==')[0]+' == 0 | '+c+' )' for c in cut_history] ) # including nulls\n",
    "    \n",
    "        matching_prior_info = np.unique(table.query(query)[headers[d]]).tolist()\n",
    "    \n",
    "    prior_type_str = ' '.join([str(int(x)) for x in matching_prior_info])\n",
    "    prior_params = priors_dict[prior_type_str]\n",
    "    \n",
    "    # make scaled cut\n",
    "    x = (theta_space[d,1] - theta_space[d,0]) * np.random.beta(prior_params[0], prior_params[1])\n",
    "    \n",
    "    # make lower partition\n",
    "    theta_left = np.copy(theta_space)\n",
    "    theta_left[d][1] = x \n",
    "    M_left = draw_informed_Mondrian_at_t(theta_left, table, t+T, budget, priors_dict, headers, cut_history+[headers[d]+' == -1.'])\n",
    "    \n",
    "    # make upper partition\n",
    "    theta_right = np.copy(theta_space)\n",
    "    theta_right[d][0] = x \n",
    "    M_right = draw_informed_Mondrian_at_t(theta_right, table, t+T, budget, priors_dict, headers, cut_history+[headers[d]+' == 1.'])\n",
    "    \n",
    "    return (theta_space, M_left, M_right)"
   ]
  },
  {
   "cell_type": "markdown",
   "metadata": {},
   "source": [
    "Let's sample from this prior..."
   ]
  },
  {
   "cell_type": "code",
   "execution_count": 188,
   "metadata": {
    "collapsed": false
   },
   "outputs": [
    {
     "data": {
      "image/png": "[encoded data removed]",
      "text/plain": [
       "<matplotlib.figure.Figure at 0x120d7f490>"
      ]
     },
     "metadata": {},
     "output_type": "display_data"
    }
   ],
   "source": [
    "sample = draw_informed_Mondrian(np.array([[data[:,5].min(),data[:,5].max()],[data[:,6].min(),data[:,6].max()]]), table[['CD4', 'CD8']], budget=2.)\n",
    "\n",
    "plt.scatter(data[:,5], data[:,6], c='k', edgecolors='k', s=80, alpha=.5)\n",
    "print_partitions(sample)\n",
    "\n",
    "plt.show()"
   ]
  },
  {
   "cell_type": "markdown",
   "metadata": {},
   "source": [
    "## Experiment #1: 2D Simulation\n",
    "\n",
    "Let's now test out the idea on a 2D subset of the data: the *CD4* and *CD8* features."
   ]
  },
  {
   "cell_type": "code",
   "execution_count": 214,
   "metadata": {
    "collapsed": false
   },
   "outputs": [
    {
     "name": "stdout",
     "output_type": "stream",
     "text": [
      "(1000, 2)\n"
     ]
    }
   ],
   "source": [
    "data_2d = np.hstack([data[:,5][np.newaxis].T, data[:,6][np.newaxis].T])\n",
    "np.random.shuffle(data_2d)\n",
    "data_2d = data_2d[:1000,:]\n",
    "print data_2d.shape\n",
    "\n",
    "x_min, y_min, x_max, y_max = data_2d[:,0].min(), data_2d[:,1].min(), data_2d[:,0].max(), data_2d[:,1].max()"
   ]
  },
  {
   "cell_type": "markdown",
   "metadata": {},
   "source": [
    "##### Inference with Accept-Reject Algorithm\n",
    "\n",
    "We will obtain the posterior distribution over partitions via accept-reject sampling.  First, we need to obtain an approx. MLE to use in the denominator... "
   ]
  },
  {
   "cell_type": "code",
   "execution_count": 219,
   "metadata": {
    "collapsed": false
   },
   "outputs": [
    {
     "name": "stdout",
     "output_type": "stream",
     "text": [
      "log prob. MLE: -145.665145\n"
     ]
    }
   ],
   "source": [
    "# run K medians\n",
    "medians, assignments = get_K_mediants(data_2d, K=4, lambda_k=.0000001, max_iterations=500)\n",
    "\n",
    "# get bounds for each cluster\n",
    "bounds = []\n",
    "for k_idx in np.unique(assignments):\n",
    "    idxs = np.nonzero(assignments==k_idx)[0]\n",
    "    bounds.append( [(data_2d[idxs,0].min(), data_2d[idxs,0].max()), (data_2d[idxs,1].min(), data_2d[idxs,1].max())] )\n",
    "\n",
    "#Calculate max. likelihood estimate\n",
    "log_p_MLE = 0.\n",
    "for k_idx in np.unique(assignments):\n",
    "    k_count = len(np.nonzero(assignments==k_idx)[0])\n",
    "    log_p_MLE += k_count * (-np.log(bounds[k_idx][0][1]-bounds[k_idx][0][0]) + -np.log(bounds[k_idx][1][1]-bounds[k_idx][1][0]))\n",
    "    \n",
    "print \"log prob. MLE: %f\" %(log_p_MLE)"
   ]
  },
  {
   "cell_type": "markdown",
   "metadata": {},
   "source": [
    "Now run accept-reject to collect posterior samples..."
   ]
  },
  {
   "cell_type": "code",
   "execution_count": 220,
   "metadata": {
    "collapsed": false
   },
   "outputs": [
    {
     "name": "stdout",
     "output_type": "stream",
     "text": [
      "Iteration 500, Samples 0\n",
      "Iteration 1000, Samples 2\n",
      "Iteration 1500, Samples 2\n",
      "Iteration 2000, Samples 3\n",
      "Iteration 2500, Samples 3\n",
      "Iteration 3000, Samples 3\n",
      "Iteration 3500, Samples 3\n",
      "Iteration 4000, Samples 3\n",
      "Iteration 4500, Samples 3\n",
      "Iteration 5000, Samples 3\n",
      "Number of samples collected: 3\n"
     ]
    }
   ],
   "source": [
    "def get_Mondrian_partition_bounds(p):\n",
    "    if not p[1] and not p[2]: \n",
    "        return [[(p[0][0,0], p[0][0,1]), (p[0][1,0], p[0][1,1])]]\n",
    "    else:\n",
    "        return get_Mondrian_partition_bounds(p[1]) + get_Mondrian_partition_bounds(p[2])\n",
    "\n",
    "mcmc_its = 100000\n",
    "N = data_2d.shape[0]\n",
    "\n",
    "samples = []\n",
    "rejects = []\n",
    "for idx in xrange(mcmc_its):\n",
    "    \n",
    "    sample = draw_informed_Mondrian(np.array([[x_min, x_max], [y_min, y_max]]), table[['CD4', 'CD8']], budget=2.)\n",
    "    sample_bounds = get_Mondrian_partition_bounds(sample)\n",
    "    \n",
    "    log_p_sample = 0.\n",
    "    for n in xrange(N):\n",
    "        for k in xrange(len(sample_bounds)):\n",
    "            if data_2d[n,0] > sample_bounds[k][0][0] and data_2d[n,0] < sample_bounds[k][0][1] \\\n",
    "            and data_2d[n,1] > sample_bounds[k][1][0] and data_2d[n,1] < sample_bounds[k][1][1]:\n",
    "                log_p_sample += -np.log(sample_bounds[k][0][1]-sample_bounds[k][0][0]) + -np.log(sample_bounds[k][1][1]-sample_bounds[k][1][0])\n",
    "                break\n",
    "    \n",
    "    # perform accept-reject step\n",
    "    log_p_ratio = log_p_sample - log_p_MLE\n",
    "    if log_p_ratio >= np.log(np.random.uniform(low=0, high=1.)):\n",
    "        samples.append(sample)\n",
    "    else:\n",
    "        rejects.append(sample)\n",
    "        \n",
    "    if (idx+1) % 1000 == 0:\n",
    "        print \"Iteration %d, Samples %d\" %(idx+1, len(samples))\n",
    "        \n",
    "print \"Number of samples collected: %d\" %(len(samples))"
   ]
  },
  {
   "cell_type": "markdown",
   "metadata": {},
   "source": [
    "Now let's visualize the posterior samples..."
   ]
  },
  {
   "cell_type": "code",
   "execution_count": 221,
   "metadata": {
    "collapsed": false
   },
   "outputs": [
    {
     "data": {
      "text/plain": [
       "<matplotlib.figure.Figure at 0x120d9bb50>"
      ]
     },
     "metadata": {},
     "output_type": "display_data"
    },
    {
     "data": {
      "image/png": "[encoded data removed]",
      "text/plain": [
       "<matplotlib.figure.Figure at 0x120d9b510>"
      ]
     },
     "metadata": {},
     "output_type": "display_data"
    }
   ],
   "source": [
    "plt.figure()\n",
    "\n",
    "print_posterior(data_2d, samples, trans_level=.05)\n",
    "\n",
    "plt.xlim([x_min, x_max])\n",
    "plt.ylim([y_min, y_max])\n",
    "plt.show()"
   ]
  }
 ],
 "metadata": {
  "kernelspec": {
   "display_name": "Python 2",
   "language": "python",
   "name": "python2"
  },
  "language_info": {
   "codemirror_mode": {
    "name": "ipython",
    "version": 2
   },
   "file_extension": ".py",
   "mimetype": "text/x-python",
   "name": "python",
   "nbconvert_exporter": "python",
   "pygments_lexer": "ipython2",
   "version": "2.7.11"
  }
 },
 "nbformat": 4,
 "nbformat_minor": 1
}
