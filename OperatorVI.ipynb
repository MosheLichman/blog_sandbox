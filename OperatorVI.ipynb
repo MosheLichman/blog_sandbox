{
 "cells": [
  {
   "cell_type": "code",
   "execution_count": 1,
   "metadata": {
    "collapsed": false
   },
   "outputs": [
    {
     "name": "stderr",
     "output_type": "stream",
     "text": [
      "/home/local/ANT/ennalisn/anaconda2/lib/python2.7/site-packages/matplotlib/font_manager.py:273: UserWarning: Matplotlib is building the font cache using fc-list. This may take a moment.\n",
      "  warnings.warn('Matplotlib is building the font cache using fc-list. This may take a moment.')\n"
     ]
    }
   ],
   "source": [
    "from IPython.display import Image\n",
    "import itertools\n",
    "\n",
    "import matplotlib\n",
    "import matplotlib.pyplot as plt\n",
    "import matplotlib.mlab as mlab\n",
    "\n",
    "import autograd.numpy as np\n",
    "from autograd.numpy import trace\n",
    "from autograd.numpy.linalg import det\n",
    "from autograd.numpy.linalg import inv\n",
    "from autograd.scipy.stats import norm\n",
    "from autograd.scipy.special import gamma as gammaFn\n",
    "from autograd.scipy.special import polygamma\n",
    "\n",
    "from autograd import grad\n",
    "\n",
    "%matplotlib inline"
   ]
  },
  {
   "cell_type": "markdown",
   "metadata": {},
   "source": [
    "# Operator Variational Inference\n",
    "### by R. Ranganath, J. Altosaar, D. Tran, and D. Blei (https://arxiv.org/abs/1610.09033)\n",
    "\n",
    "Variational inference (VI) refers to the task of optimizing the parameters of a distribution such that it approximates an intractable one well.  Because Bayesian posteriors are intractable in all but the simplest cases, VI is usually employed for Bayesian models as a scalable alternative to MCMC.  The optimization objective is usually chosen as the KL-Divergence from the approximate distribution to the intractable one (although there are less-popular alternatives): $$KLD[q(\\theta) \\mid \\mid p(\\theta|\\mathcal{D})] = \\int_{\\theta} q(\\theta) [\\log q(\\theta) - \\log p(\\theta|\\mathcal{D})] d\\theta = \\int_{\\theta} q(\\theta) [\\log q(\\theta) - \\log p(\\mathcal{D}, \\theta)] d\\theta + \\log p(\\mathcal{D}).$$  Rearranging the above to put the model evidence on the LHS, we have $$\\log p(\\mathcal{D}) = \\int_{\\theta} q(\\theta) [\\log p(\\mathcal{D},\\theta) - \\log q(\\theta)] d\\theta + KLD[q(\\theta) \\mid \\mid p(\\theta|\\mathcal{D})] \\ge \\mathbb{E}_{q} [\\log p(\\mathcal{D}, \\theta) - \\log q(\\theta)] = \\mathcal{L}_{VI}.$$  $\\mathcal{L}_{VI}$ is known as the *Evidence Lowerbound*, and it comes about by dropping the $KLD[q(\\theta) \\mid \\mid p(\\theta | \\mathcal{D})]$ term, which we know is strictly non-negative.  Notice that the bound becomes tight when $q(\\theta)=p(\\theta | \\mathcal{D})$."
   ]
  },
  {
   "cell_type": "markdown",
   "metadata": {},
   "source": [
    "### Operator Variational Inference\n",
    "\n",
    "The usual approaches to VI (based on KLD and the evidence lowerbound above) hinge upon choosing a parametric form for the approximate posterior $q$.  Ranganath et al. argues that there are benefits to be had if we broaden our perspective of VI to think of it just as mapping one function to another---i.e. applying an *operator* $\\mathcal{0}^{p,q}$.  There are three components to their Operator VI (OVI) framework:\n",
    "* An operator $\\mathcal{O}^{p,q}$ that depends on $q$ and $p(\\theta | \\mathcal{D})$.\n",
    "* A family of test functions $f \\in \\mathcal{F}$ such that $f: \\Theta \\mapsto \\mathbb{R}^d$.\n",
    "* A distance function $t: \\mathbb{R} \\mapsto [0,\\infty)$.\n",
    "\n",
    "These components are combined to form the following OVI objective: $$\\mathcal{L}_{OVI} = \\sup_{f \\in\\mathcal{F}} t(\\mathbb{E}_{q} [ (\\mathcal{O}^{p,q} f)(\\theta) ]), $$ which we desire to equal zero when $p(\\theta | \\mathcal{D})=q(\\theta)$.  The operator $\\mathcal{O}^{p,q}$, while still rather abstract at the moment, can be thought of as the posterior's sole source of influence.  "
   ]
  },
  {
   "cell_type": "code",
   "execution_count": 9,
   "metadata": {
    "collapsed": false
   },
   "outputs": [],
   "source": [
    "def steinOp(x, idx, dLogModel, params, kernel, kernelParams=None):\n",
    "    returnVal = 0.\n",
    "    n = len(x)\n",
    "    for j in xrange(n):\n",
    "        returnVal += kernel['f'](x[j], x[idx]) * dLogModel(x[j],params) + kernel['df'](x[j], x[idx])\n",
    "    return 1./n * returnVal"
   ]
  },
  {
   "cell_type": "markdown",
   "metadata": {},
   "source": [
    "### Gaussian Mixture Model"
   ]
  },
  {
   "cell_type": "code",
   "execution_count": 56,
   "metadata": {
    "collapsed": false
   },
   "outputs": [
    {
     "data": {
      "text/plain": [
       "<matplotlib.legend.Legend at 0x11b9452d0>"
      ]
     },
     "execution_count": 56,
     "metadata": {},
     "output_type": "execute_result"
    },
    {
     "data": {
      "image/png": "[encoded data removed]",
      "text/plain": [
       "<matplotlib.figure.Figure at 0x114133550>"
      ]
     },
     "metadata": {},
     "output_type": "display_data"
    }
   ],
   "source": [
    "# Model\n",
    "def gaussPdf(x, params):\n",
    "    return (1./np.sqrt(2*np.pi*params['sigma']**2)) * np.exp((-.5/params['sigma']**2) * np.sum((x-params['mu'])**2))\n",
    "\n",
    "def logGaussMixPDF(x, params):\n",
    "    return params['pi'][0] * gaussPdf(x, {'mu':params['mu'][0], 'sigma':params['sigma'][0]}) \\\n",
    "            + params['pi'][1] * gaussPdf(x, {'mu':params['mu'][1], 'sigma':params['sigma'][1]})\n",
    "                                         \n",
    "logModel = logGaussMixPDF\n",
    "dLogModel = grad(logModel)\n",
    "params = {\n",
    "    'mu': [-4,3],\n",
    "    'sigma': [1, 3],\n",
    "    'pi': [.3, .7]\n",
    "}\n",
    "\n",
    "# kernel\n",
    "kernel = {'f': rbf}\n",
    "kernel['df'] = grad(kernel['f'])\n",
    "\n",
    "# initial distribution\n",
    "q0 = np.random.normal\n",
    "\n",
    "### generate samples\n",
    "n = 15\n",
    "x = []\n",
    "for sampleIdx in xrange(n):\n",
    "    x.append(q0())\n",
    "    \n",
    "maxEpochs = 100\n",
    "lr = 2.\n",
    "for epochIdx in xrange(maxEpochs):\n",
    "    for idx in xrange(n):\n",
    "        x[idx] += lr * steinOp(x, idx, dLogModel, params, kernel)\n",
    "\n",
    "x.sort()\n",
    "probs = [np.exp(logModel(z, params)) for z in x]    \n",
    "x_true = np.linspace(-10, 10, 1000)\n",
    "probs_true = [np.exp(logModel(z, params)) for z in x_true]\n",
    "\n",
    "plt.plot(x_true, probs_true, 'b-', linewidth=5, label=\"True\")\n",
    "plt.plot(x, probs, 'rx--', markersize=10, mew=5, linewidth=5, label=\"Approximation\")\n",
    "plt.xlim([-10,10])\n",
    "plt.legend()"
   ]
  }
 ],
 "metadata": {
  "anaconda-cloud": {},
  "kernelspec": {
   "display_name": "Python [default]",
   "language": "python",
   "name": "python2"
  },
  "language_info": {
   "codemirror_mode": {
    "name": "ipython",
    "version": 2
   },
   "file_extension": ".py",
   "mimetype": "text/x-python",
   "name": "python",
   "nbconvert_exporter": "python",
   "pygments_lexer": "ipython2",
   "version": "2.7.12"
  }
 },
 "nbformat": 4,
 "nbformat_minor": 1
}
