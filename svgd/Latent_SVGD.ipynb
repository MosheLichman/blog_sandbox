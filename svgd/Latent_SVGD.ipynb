{
 "cells": [
  {
   "cell_type": "code",
   "execution_count": 3,
   "metadata": {
    "collapsed": false
   },
   "outputs": [],
   "source": [
    "from IPython.display import Image\n",
    "import itertools\n",
    "\n",
    "import matplotlib\n",
    "import matplotlib.pyplot as plt\n",
    "import matplotlib.mlab as mlab\n",
    "\n",
    "import autograd.numpy as np\n",
    "from autograd import grad\n",
    "\n",
    "%matplotlib inline"
   ]
  },
  {
   "cell_type": "markdown",
   "metadata": {},
   "source": [
    "# Stein Variational Gradient Descent\n",
    "### by Qiang Liu, Dilin Wang (https://arxiv.org/abs/1608.04471)\n",
    "\n",
    "Particles explore the posterior according to the following iterative algorithm\n",
    "$$ \\theta_{i}^{l+1} \\leftarrow \\theta_{i}^{l} + \\epsilon \\boldsymbol{\\hat \\phi}(\\theta_{i}^{l}) \\text{  where  } \\boldsymbol{\\hat \\phi}(\\theta_{i}^{l}) = \\frac{1}{n} \\sum_{j=1}^{n} k(\\theta_{j}^{l}, \\theta) \\nabla_{\\theta_{j}^{l}} \\log p(\\theta_{j}^{l}) + \\nabla_{\\theta_{j}^{l}} k(\\theta_{j}^{l}, \\theta)$$\n",
    "where $k$ is a valid kernel and $\\epsilon$ is a step-size.  The operator $\\boldsymbol{\\hat \\phi}(\\theta_{i}^{l})$ is implemented below:"
   ]
  },
  {
   "cell_type": "markdown",
   "metadata": {},
   "source": [
    "### Kernels for $\\mathbb{R}^{d}$"
   ]
  },
  {
   "cell_type": "code",
   "execution_count": 77,
   "metadata": {
    "collapsed": false
   },
   "outputs": [],
   "source": [
    "# Probability Product Kernel\n",
    "def prob_prod(z1_mu, z1_log_sigma, z2_mu, z2_log_sigma, scale=3.):\n",
    "    \n",
    "    z1_sigma = np.exp(z1_log_sigma)\n",
    "    z2_sigma = np.exp(z2_log_sigma)\n",
    "\n",
    "    rho = 1./scale\n",
    "    sigma_star = 1./z1_sigma + 1./z2_sigma\n",
    "    mu_star = z1_mu/z1_sigma + z2_mu/z2_sigma\n",
    "    norm = (2*3.14)**((1.-2*rho)*(1./2.)) * rho**(-.5) * sigma_star**.5 * z1_sigma**(-rho/2.) * z2_sigma**(-rho/2.)\n",
    "\n",
    "    return norm * np.exp( -rho/2. * ((z1_mu**2)/z1_sigma + (z2_mu**2)/z2_sigma - (mu_star**2)/sigma_star ) )\n",
    "\n",
    "def prob_prod2(z1_log_sigma, z1_mu, z2_mu, z2_log_sigma, scale=3.):\n",
    "    \n",
    "    z1_sigma = np.exp(z1_log_sigma)\n",
    "    z2_sigma = np.exp(z2_log_sigma)\n",
    "\n",
    "    rho = 1./scale\n",
    "    sigma_star = 1./z1_sigma + 1./z2_sigma\n",
    "    mu_star = z1_mu/z1_sigma + z2_mu/z2_sigma\n",
    "    norm = (2*3.14)**((1.-2*rho)*(1./2.)) * rho**(-.5) * sigma_star**.5 * z1_sigma**(-rho/2.) * z2_sigma**(-rho/2.)\n",
    "\n",
    "    return norm * np.exp( -rho/2. * ((z1_mu**2)/z1_sigma + (z2_mu**2)/z2_sigma - (mu_star**2)/sigma_star ) )\n",
    "\n",
    "\n",
    "# Radial Basis Function (Heat Kernel)\n",
    "def rbf(x1, x2, params={'lengthScale': 5.}):\n",
    "    return np.exp((-.5/params['lengthScale']) * np.sum((x1-x2)**2))"
   ]
  },
  {
   "cell_type": "markdown",
   "metadata": {},
   "source": [
    "## Models"
   ]
  },
  {
   "cell_type": "markdown",
   "metadata": {},
   "source": [
    "### Gaussian Mixture Model"
   ]
  },
  {
   "cell_type": "code",
   "execution_count": 78,
   "metadata": {
    "collapsed": false
   },
   "outputs": [
    {
     "name": "stdout",
     "output_type": "stream",
     "text": [
      "[{'mu': 1.9520301325164118, 'log_sigma': 0.82755193589675902}, {'mu': 6.1449301543655235, 'log_sigma': 0.86748780449256468}, {'mu': 1.241864108156552, 'log_sigma': 1.4445233015394481}, {'mu': -3.7959579091146312, 'log_sigma': 0.11500893878551002}]\n"
     ]
    },
    {
     "data": {
      "image/png": "[encoded data removed]",
      "text/plain": [
       "<matplotlib.figure.Figure at 0x112526a90>"
      ]
     },
     "metadata": {},
     "output_type": "display_data"
    }
   ],
   "source": [
    "# Model\n",
    "def gaussPdf(x, params):\n",
    "    return (1./np.sqrt(2*np.pi*params['sigma']**2)) * np.exp((-.5/params['sigma']**2) * np.sum((x-params['mu'])**2))\n",
    "\n",
    "def gaussEntropy(log_sigma):\n",
    "    return .5 * (np.log(2*np.pi*np.e) + 2.*log_sigma)\n",
    "\n",
    "def logGaussMixPDF(x, params):\n",
    "    return np.log(params['pi'][0] * gaussPdf(x, {'mu':params['mu'][0], 'sigma':params['sigma'][0]}) \\\n",
    "            + params['pi'][1] * gaussPdf(x, {'mu':params['mu'][1], 'sigma':params['sigma'][1]}))\n",
    "\n",
    "# get model grad wrt sample\n",
    "logModel = logGaussMixPDF\n",
    "dLogModel = grad(logModel)\n",
    "\n",
    "# get entropy grad wrt log sigma\n",
    "dEntropy_dLogSigma = grad(gaussEntropy)\n",
    "\n",
    "# kernel\n",
    "kernel = {'f': prob_prod}\n",
    "kernel['df_mu'] = grad(kernel['f'])\n",
    "kernel['df_lsig'] = grad(prob_prod2)\n",
    "\n",
    "params = {\n",
    "    'mu': [-4,3],\n",
    "    'sigma': [1, 3],\n",
    "    'pi': [.3, .7]\n",
    "}\n",
    "\n",
    "# initial distribution\n",
    "q0 = np.random.normal\n",
    "\n",
    "### generate samples\n",
    "n = 4\n",
    "psi = []\n",
    "for sampleIdx in xrange(n):\n",
    "    psi.append( {'mu':q0(), 'log_sigma':0.} )\n",
    "    \n",
    "    \n",
    "# Modified Stein Op\n",
    "def steinOp(vi_params, idx, dLogModel, params, dEntropy, kernel, kernelParams=None):\n",
    "    \n",
    "    returnVal_mu = 0.\n",
    "    returnVal_logSigma = 0.\n",
    "    \n",
    "    K = len(vi_params)\n",
    "    for k in xrange(K):\n",
    "        \n",
    "        epsilon = np.random.normal()\n",
    "        x_sample = vi_params[k]['mu'] + epsilon * np.exp(vi_params[k]['log_sigma'])\n",
    "        \n",
    "        grad_mu = dLogModel(x_sample, params) * 1. \n",
    "        \n",
    "        grad_log_sigma = dLogModel(x_sample, params) * epsilon * np.exp(vi_params[k]['log_sigma'])\n",
    "        grad_log_sigma += dEntropy(vi_params[k]['log_sigma'])\n",
    "        \n",
    "        returnVal_mu += kernel['f'](vi_params[k]['mu'], vi_params[k]['log_sigma'], vi_params[idx]['mu'], vi_params[idx]['log_sigma']) * grad_mu \n",
    "        returnVal_mu += kernel['df_mu'](vi_params[k]['mu'], vi_params[k]['log_sigma'], vi_params[idx]['mu'], vi_params[idx]['log_sigma'])\n",
    "        \n",
    "        returnVal_logSigma += kernel['f'](vi_params[k]['mu'], vi_params[k]['log_sigma'], vi_params[idx]['mu'], vi_params[idx]['log_sigma']) * grad_log_sigma\n",
    "        returnVal_logSigma += kernel['df_lsig'](vi_params[k]['log_sigma'], vi_params[k]['mu'], vi_params[idx]['mu'], vi_params[idx]['log_sigma'])\n",
    "\n",
    "    return (1./K * returnVal_mu, 1./K * returnVal_logSigma)\n",
    "    \n",
    "    \n",
    "maxEpochs = 750\n",
    "lr_mu = .1\n",
    "lr_sig = .05\n",
    "for epochIdx in xrange(maxEpochs):\n",
    "    for idx in xrange(n):\n",
    "        update = steinOp(psi, idx, dLogModel, params, dEntropy_dLogSigma, kernel)\n",
    "        psi[idx]['mu'] += lr_mu * update[0]\n",
    "        psi[idx]['log_sigma'] += lr_sig * update[1]\n",
    "        \n",
    "print psi\n",
    "        \n",
    "plt.figure()\n",
    "\n",
    "# plot true distributions\n",
    "x_true = np.linspace(-10, 10, 1000)\n",
    "probs_true = [np.exp(logModel(z, params)) for z in x_true]\n",
    "plt.plot(x_true, probs_true, 'b-', linewidth=5, label=\"True\")\n",
    "\n",
    "# plot latent\n",
    "colors = ['r','g','y','m']\n",
    "probs_approx = []\n",
    "for k in xrange(n):\n",
    "    probs_approx.append([gaussPdf(z, {'mu':psi[k]['mu'], 'sigma':np.exp(psi[k]['log_sigma'])}) for z in x_true]) \n",
    "    plt.plot(x_true, probs_approx[-1], '--k', linewidth=2, label=\"Component #%d\" %(k+1))\n",
    "    \n",
    "full_approx = np.zeros(x_true.shape[0])\n",
    "for k in xrange(n):\n",
    "    full_approx += 1./n * np.array(probs_approx[k])\n",
    "plt.plot(x_true, full_approx, '-r', linewidth=5, label=\"Full Approximation\")\n",
    "    \n",
    "plt.xlim([-10,10])\n",
    "plt.ylim([0,.4])\n",
    "plt.legend()\n",
    "plt.show()"
   ]
  },
  {
   "cell_type": "code",
   "execution_count": null,
   "metadata": {
    "collapsed": true
   },
   "outputs": [],
   "source": []
  },
  {
   "cell_type": "code",
   "execution_count": null,
   "metadata": {
    "collapsed": true
   },
   "outputs": [],
   "source": []
  }
 ],
 "metadata": {
  "kernelspec": {
   "display_name": "Python 2",
   "language": "python",
   "name": "python2"
  },
  "language_info": {
   "codemirror_mode": {
    "name": "ipython",
    "version": 2
   },
   "file_extension": ".py",
   "mimetype": "text/x-python",
   "name": "python",
   "nbconvert_exporter": "python",
   "pygments_lexer": "ipython2",
   "version": "2.7.11"
  }
 },
 "nbformat": 4,
 "nbformat_minor": 1
}
