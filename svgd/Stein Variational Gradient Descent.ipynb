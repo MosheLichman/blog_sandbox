{
 "cells": [
  {
   "cell_type": "code",
   "execution_count": 4,
   "metadata": {
    "collapsed": false
   },
   "outputs": [],
   "source": [
    "from IPython.display import Image\n",
    "import itertools\n",
    "\n",
    "import matplotlib\n",
    "import matplotlib.pyplot as plt\n",
    "import matplotlib.mlab as mlab\n",
    "\n",
    "import autograd.numpy as np\n",
    "from autograd.numpy import trace\n",
    "from autograd.numpy.linalg import det\n",
    "from autograd.numpy.linalg import inv\n",
    "from autograd.scipy.stats import norm\n",
    "from autograd.scipy.special import gamma as gammaFn\n",
    "from autograd.scipy.special import polygamma\n",
    "\n",
    "from autograd import grad\n",
    "\n",
    "%matplotlib inline"
   ]
  },
  {
   "cell_type": "markdown",
   "metadata": {},
   "source": [
    "Utility functions..."
   ]
  },
  {
   "cell_type": "code",
   "execution_count": 5,
   "metadata": {
    "collapsed": false
   },
   "outputs": [],
   "source": [
    "def besselFn_helper(x, v=5, M=10):\n",
    "    s = 0.\n",
    "    for m in xrange(M):\n",
    "        s += (1./(gammaFn(m+1)*gammaFn(m+v+1))) * (x/2.)**(2*m+v)\n",
    "    return s\n",
    "\n",
    "def besselFn(v, x):\n",
    "    return np.pi/2. * (besselFn_helper(x,-v) - besselFn_helper(x,v))/np.sin(np.pi*v)"
   ]
  },
  {
   "cell_type": "markdown",
   "metadata": {},
   "source": [
    "# Stein Variational Gradient Descent\n",
    "### by Qiang Liu, Dilin Wang (https://arxiv.org/abs/1608.04471)\n",
    "\n",
    "Particles explore the posterior according to the following iterative algorithm\n",
    "$$ \\theta_{i}^{l+1} \\leftarrow \\theta_{i}^{l} + \\epsilon \\boldsymbol{\\hat \\phi}(\\theta_{i}^{l}) \\text{  where  } \\boldsymbol{\\hat \\phi}(\\theta_{i}^{l}) = \\frac{1}{n} \\sum_{j=1}^{n} k(\\theta_{j}^{l}, \\theta) \\nabla_{\\theta_{j}^{l}} \\log p(\\theta_{j}^{l}) + \\nabla_{\\theta_{j}^{l}} k(\\theta_{j}^{l}, \\theta)$$\n",
    "where $k$ is a valid kernel and $\\epsilon$ is a step-size.  The operator $\\boldsymbol{\\hat \\phi}(\\theta_{i}^{l})$ is implemented below:"
   ]
  },
  {
   "cell_type": "code",
   "execution_count": 9,
   "metadata": {
    "collapsed": false
   },
   "outputs": [],
   "source": [
    "def steinOp(x, idx, dLogModel, params, kernel, kernelParams=None):\n",
    "    returnVal = 0.\n",
    "    n = len(x)\n",
    "    for j in xrange(n):\n",
    "        returnVal += kernel['f'](x[j], x[idx]) * dLogModel(x[j],params) + kernel['df'](x[j], x[idx])\n",
    "    return 1./n * returnVal"
   ]
  },
  {
   "cell_type": "markdown",
   "metadata": {},
   "source": [
    "### Kernel Functions\n",
    "The choice of kernel is straightforward for $\\mathbb{R}$; the RBF and Matern work well.  When the particles are restriced to some bounded domain, the choice becomes less clear.  There are several options:\n",
    "\n",
    "1) Transform to $\\mathbb{R}$ and perform regular SVGD.\n",
    "\n",
    "2) Contrive a kernel $k'(x_{1},x_{2}) = f(x_{1})k(x_{1},x_{2})f(x_{2})$ where $f$ is some function that is zero on the boundary and $k$ is regular pd kernel with no boundary considerations.\n",
    "\n",
    "3) Consider the Sobolev space with appropriate boundaries and use the corresponding kernel.\n",
    "\n",
    "4) Use a Fisher or related kernel\n",
    "\n",
    "5) Use a heat kernel on the appropriate manifold.\n",
    "\n",
    "We'll test the options above for some common distributions. "
   ]
  },
  {
   "cell_type": "markdown",
   "metadata": {},
   "source": [
    "### Kernels for $\\mathbb{R}^{d}$"
   ]
  },
  {
   "cell_type": "code",
   "execution_count": 17,
   "metadata": {
    "collapsed": false
   },
   "outputs": [],
   "source": [
    "# Radial Basis Function (Heat Kernel)\n",
    "def rbf(x1, x2, params={'lengthScale': 1}):\n",
    "    return np.exp((-.5/params['lengthScale']) * np.sum((x1-x2)**2))\n",
    "\n",
    "# Matern\n",
    "def matern(x1, x2, params={'v': 1 ,'l': 6.}):\n",
    "    # np.abs seems to be problematic w/ autograd, hacking\n",
    "    if x1 > x2: d = x1 - x2\n",
    "    else: d = x2 - x1\n",
    "    temp = ((np.sqrt(2*params['v'])/params['l']) * np.sum(d))\n",
    "    return (2**(1-params['v'])/gammaFn(params['v'])) * temp**params['v'] * besselFn(params['v'], temp) "
   ]
  },
  {
   "cell_type": "markdown",
   "metadata": {},
   "source": [
    "### Kernels for $\\mathbb{R}^{d}_{>0}$"
   ]
  },
  {
   "cell_type": "code",
   "execution_count": 55,
   "metadata": {
    "collapsed": false
   },
   "outputs": [],
   "source": [
    "# Diffusion Kernel for Gamma r.v.'s via Parametrix Expansion\n",
    "# Dropped \\Psi terms following (Lafferty & Lebanon, 2005)\n",
    "def gamma_diffusion(x1, x2, params={'t': .01}):\n",
    "    try: n = len(x1) \n",
    "    except: n = 1\n",
    "    squ_geo = np.sum((polygamma(1,x1)-polygamma(1,x2))**2) \n",
    "    return (4*np.pi*params['t'])**(-n/2.) * np.exp((-.25/params['t']) * squ_geo)"
   ]
  },
  {
   "cell_type": "markdown",
   "metadata": {},
   "source": [
    "### Kernels for $\\mathbb{R} \\in [0, 1]$"
   ]
  },
  {
   "cell_type": "code",
   "execution_count": 54,
   "metadata": {
    "collapsed": false
   },
   "outputs": [],
   "source": [
    "# 1st order Sobolev on [0,1]\n",
    "def unit_sobolev(x1, x2):\n",
    "    return np.sum(np.min(x1, x2) - x1*x2)"
   ]
  },
  {
   "cell_type": "markdown",
   "metadata": {},
   "source": [
    "## Models"
   ]
  },
  {
   "cell_type": "markdown",
   "metadata": {},
   "source": [
    "### Gaussian Mixture Model"
   ]
  },
  {
   "cell_type": "code",
   "execution_count": 56,
   "metadata": {
    "collapsed": false
   },
   "outputs": [
    {
     "data": {
      "text/plain": [
       "<matplotlib.legend.Legend at 0x11b9452d0>"
      ]
     },
     "execution_count": 56,
     "metadata": {},
     "output_type": "execute_result"
    },
    {
     "data": {
      "image/png": "[encoded data removed]",
      "text/plain": [
       "<matplotlib.figure.Figure at 0x114133550>"
      ]
     },
     "metadata": {},
     "output_type": "display_data"
    }
   ],
   "source": [
    "# Model\n",
    "def gaussPdf(x, params):\n",
    "    return (1./np.sqrt(2*np.pi*params['sigma']**2)) * np.exp((-.5/params['sigma']**2) * np.sum((x-params['mu'])**2))\n",
    "\n",
    "def logGaussMixPDF(x, params):\n",
    "    return params['pi'][0] * gaussPdf(x, {'mu':params['mu'][0], 'sigma':params['sigma'][0]}) \\\n",
    "            + params['pi'][1] * gaussPdf(x, {'mu':params['mu'][1], 'sigma':params['sigma'][1]})\n",
    "                                         \n",
    "logModel = logGaussMixPDF\n",
    "dLogModel = grad(logModel)\n",
    "params = {\n",
    "    'mu': [-4,3],\n",
    "    'sigma': [1, 3],\n",
    "    'pi': [.3, .7]\n",
    "}\n",
    "\n",
    "# kernel\n",
    "kernel = {'f': rbf}\n",
    "kernel['df'] = grad(kernel['f'])\n",
    "\n",
    "# initial distribution\n",
    "q0 = np.random.normal\n",
    "\n",
    "### generate samples\n",
    "n = 15\n",
    "x = []\n",
    "for sampleIdx in xrange(n):\n",
    "    x.append(q0())\n",
    "    \n",
    "maxEpochs = 100\n",
    "lr = 2.\n",
    "for epochIdx in xrange(maxEpochs):\n",
    "    for idx in xrange(n):\n",
    "        x[idx] += lr * steinOp(x, idx, dLogModel, params, kernel)\n",
    "\n",
    "x.sort()\n",
    "probs = [np.exp(logModel(z, params)) for z in x]    \n",
    "x_true = np.linspace(-10, 10, 1000)\n",
    "probs_true = [np.exp(logModel(z, params)) for z in x_true]\n",
    "\n",
    "plt.plot(x_true, probs_true, 'b-', linewidth=5, label=\"True\")\n",
    "plt.plot(x, probs, 'rx--', markersize=10, mew=5, linewidth=5, label=\"Approximation\")\n",
    "plt.xlim([-10,10])\n",
    "plt.legend()"
   ]
  },
  {
   "cell_type": "markdown",
   "metadata": {},
   "source": [
    "### Gamma Mixture Model"
   ]
  },
  {
   "cell_type": "code",
   "execution_count": 58,
   "metadata": {
    "collapsed": false
   },
   "outputs": [
    {
     "data": {
      "text/plain": [
       "<matplotlib.legend.Legend at 0x1187c4ad0>"
      ]
     },
     "execution_count": 58,
     "metadata": {},
     "output_type": "execute_result"
    },
    {
     "data": {
      "image/png": "[encoded data removed]",
      "text/plain": [
       "<matplotlib.figure.Figure at 0x1176b12d0>"
      ]
     },
     "metadata": {},
     "output_type": "display_data"
    }
   ],
   "source": [
    "# Model\n",
    "def gammaPdf(x, params):\n",
    "    return x**(params['shape']-1)/(gammaFn(params['shape'])*params['scale']**params['shape']) * np.exp(-x/params['scale'])\n",
    "\n",
    "def logGammaMixPDF(x, params):\n",
    "    return params['pi'][0] * gammaPdf(x, {'shape':params['shape'][0], 'scale':params['scale'][0]}) \\\n",
    "            + params['pi'][1] * gammaPdf(x, {'shape':params['shape'][1], 'scale':params['scale'][1]})\n",
    "                                         \n",
    "logModel = logGammaMixPDF\n",
    "dLogModel = grad(logModel)\n",
    "params = {\n",
    "    'shape': [1, 5],\n",
    "    'scale': [1, 2],\n",
    "    'pi': [.3, .7]\n",
    "}\n",
    "\n",
    "# kernel\n",
    "kernel = {'f': gamma_diffusion}\n",
    "kernel['df'] = grad(kernel['f'])\n",
    "\n",
    "# initial distribution\n",
    "q0 = np.random.gamma\n",
    "\n",
    "### generate samples\n",
    "n = 15\n",
    "x = []\n",
    "for sampleIdx in xrange(n):\n",
    "    x.append(q0(shape=7))\n",
    "\n",
    "maxEpochs = 100\n",
    "lr = 2\n",
    "for epochIdx in xrange(maxEpochs):\n",
    "    for idx in xrange(n):\n",
    "        x[idx] += lr * steinOp(x, idx, dLogModel, params, kernel)\n",
    "        # check boundary condition, reflect if <= 0\n",
    "        if x[idx] <=0: x[idx] = np.abs(x[idx])\n",
    "\n",
    "x.sort()\n",
    "probs = [np.exp(logModel(z, params)) for z in x]  \n",
    "\n",
    "x_true = np.linspace(0, 20, 1000)\n",
    "probs_true = [np.exp(logModel(z, params)) for z in x_true]\n",
    "\n",
    "plt.plot(x_true, probs_true, 'b-', linewidth=5, label=\"True\")\n",
    "plt.plot(x, probs, 'rx--', markersize=10, mew=5, linewidth=5, label=\"Approximation\")\n",
    "plt.xlim([0,20])\n",
    "plt.legend()"
   ]
  },
  {
   "cell_type": "markdown",
   "metadata": {},
   "source": [
    "### Gamma Factor Analysis\n",
    "\n",
    "In progress..."
   ]
  },
  {
   "cell_type": "code",
   "execution_count": null,
   "metadata": {
    "collapsed": false
   },
   "outputs": [],
   "source": [
    "# Model\n",
    "def logPostFA(W, params):\n",
    "    X = params['data']\n",
    "    N = X.shape[0]\n",
    "    D,K = W.shape\n",
    "    Q = np.dot(W, W.T)\n",
    "    log_prior = D*K*params['a']*np.log(params['b']) - D*K*np.log(gammaFn(params['a'])) + \\\n",
    "                    np.sum((params['a']-1)*np.log(W)) - np.sum(params['b']*W)\n",
    "    return N/2. * np.log(det(Q)) - .5*trace(np.dot(np.dot(X.T,X), inv(Q))) + log_prior\n",
    "\n",
    "# Simulate data and true load matrix\n",
    "def simulateData(W, N=1000, K=50):\n",
    "    Z = np.random.normal(size=(N,K))\n",
    "    return np.dot(Z,W.T)\n",
    "\n",
    "def construct_true_W(D, K):\n",
    "    W_true = np.zeros((D,K))\n",
    "    for d_idx in xrange(D):\n",
    "        for k_idx in xrange(K):\n",
    "            u = np.random.uniform()\n",
    "            if u <= .2: W_true[d_idx, k_idx] = np.random.uniform()\n",
    "    return W_true\n",
    "\n",
    "K = 50\n",
    "D = 100\n",
    "W_true = construct_true_W(D, K)\n",
    "\n",
    "logPost = logPostFA\n",
    "dLogPost = grad(logPost)\n",
    "params = {\n",
    "    'data': simulateData(W_true),\n",
    "    'a': 1.,\n",
    "    'b': 1.\n",
    "}\n",
    "\n",
    "# kernel\n",
    "kernel = {'f': rbf}\n",
    "kernel['df'] = grad(kernel['f'])\n",
    "\n",
    "# initial distribution\n",
    "q0 = np.random.gamma\n",
    "\n",
    "### generate samples\n",
    "n = 15\n",
    "W_particles = []\n",
    "for sampleIdx in xrange(n):\n",
    "    W_particles.append(q0(shape=1, size=(D,K)))\n",
    "    \n",
    "    \n",
    "print params['data'].shape\n",
    "    \n",
    "maxEpochs = 5\n",
    "lr = .1\n",
    "for epochIdx in xrange(maxEpochs):\n",
    "    for idx in xrange(n):\n",
    "        W_particles[idx] += lr * steinOp(W_particles, idx, dLogPost, params, kernel)\n",
    "\n",
    "print W_particles"
   ]
  },
  {
   "cell_type": "markdown",
   "metadata": {},
   "source": [
    "\n",
    "\n",
    "\n",
    "## Appendix\n",
    "\n",
    "### Parametrix Expansion\n",
    "For most geometries, there is no closed-form solution for the heat kernel.  However, short-time behavior follows the *parametrix expansion* $$ P^{(m)}_{t}(x,y) = (4 \\pi t)^{-n/2} exp\\{ \\frac{- d^{2}(x,y)}{4t} \\} (\\Psi_{0}(x,y) + \\Psi_{1}(x,y) t  + \\ldots + \\Psi_{m}(x,y) t^{m} )$$ where the $\\Psi$'s are defined recursively as $$\\Psi_{0} = (\\frac{\\sqrt{det g}}{d^{n-1}})^{-1/2} \\text{ , } \\Psi_{k} = r^{-k}\\Psi_{0} \\int_{0}^{r} \\Psi_{0}^{-1}(\\delta \\phi_{k-1}) s^{k-1} ds  $$ where $d^{2}$ is square of the geodesic and $g$ is the corresponding Riemannian metric.  We use $m=0$ for simplicity.\n",
    "#### Gamma Geodesic\n",
    "The geodesic on the Gamma's information manifold is not available in closed form.  However, (Arwini & Dodson, 2008) give the upper-bound $$d(\\kappa_{1}, \\theta_{1}, \\kappa_{2}, \\theta_{2}) \\le \\mid \\psi_{1}(\\kappa_{1}) - \\psi_{1}(\\kappa_{2}) \\mid + \\mid \\kappa_{1} \\log \\frac{\\theta_{1}}{\\theta_{2}} \\mid $$ where $\\psi_{k}$ is the polygamma function of order $k$.  We'll assume a shared scale and thus drop the second term."
   ]
  }
 ],
 "metadata": {
  "kernelspec": {
   "display_name": "Python 2",
   "language": "python",
   "name": "python2"
  },
  "language_info": {
   "codemirror_mode": {
    "name": "ipython",
    "version": 2
   },
   "file_extension": ".py",
   "mimetype": "text/x-python",
   "name": "python",
   "nbconvert_exporter": "python",
   "pygments_lexer": "ipython2",
   "version": "2.7.11"
  }
 },
 "nbformat": 4,
 "nbformat_minor": 1
}
